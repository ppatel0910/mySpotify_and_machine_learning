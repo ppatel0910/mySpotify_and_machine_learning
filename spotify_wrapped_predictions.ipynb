{
 "cells": [
  {
   "cell_type": "markdown",
   "id": "0d56041f-ac4c-4f6f-861d-607ff3f9e12c",
   "metadata": {},
   "source": [
    "# My Spotify Wrapped Predictions for  mid-year 2024"
   ]
  },
  {
   "cell_type": "markdown",
   "id": "d41fb9ed-2d39-469b-b431-0876ee1a2b87",
   "metadata": {},
   "source": [
    "## In 2022, my overall Spotify account usage decreased from the top 1% to the top 10% most active Spotify users. This puzzled me personally, I was in the 99th percentile for a consistent five years. And from my point of view, this was wildly inaccurate. This was the year that I worked my first full-time office job. It's probably easy to believe for the average, entry-level, white collar worker that my job needed little to intelligence to excel, and even less to work there for 20+ years. Even though I accrued most of my time on Spotify through my job,  I deserve(d) to maintain my self-proclaimed coveted title as one of Spotify's biggest users. But unfortunately, for some reason that I may never know I did not renew that title this year.  "
   ]
  }
 ],
 "metadata": {
  "kernelspec": {
   "display_name": "Python 3 (ipykernel)",
   "language": "python",
   "name": "python3"
  },
  "language_info": {
   "codemirror_mode": {
    "name": "ipython",
    "version": 3
   },
   "file_extension": ".py",
   "mimetype": "text/x-python",
   "name": "python",
   "nbconvert_exporter": "python",
   "pygments_lexer": "ipython3",
   "version": "3.11.5"
  }
 },
 "nbformat": 4,
 "nbformat_minor": 5
}
