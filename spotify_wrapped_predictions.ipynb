{
 "cells": [
  {
   "cell_type": "markdown",
   "id": "0d56041f-ac4c-4f6f-861d-607ff3f9e12c",
   "metadata": {},
   "source": [
    "# My Spotify Wrapped Predictions "
   ]
  },
  {
   "cell_type": "code",
   "execution_count": 1,
   "id": "280e8fed-fdd2-41d4-bee0-72fc2ef7ca4c",
   "metadata": {},
   "outputs": [
    {
     "name": "stdout",
     "output_type": "stream",
     "text": [
      "57619a02d735467d97e9f5fcc6b264cc f4e9db72af4e46868b418ba4e68beb7e\n"
     ]
    }
   ],
   "source": [
    "import os\n",
    "from dotenv import load_dotenv\n",
    "\n",
    "\n",
    "load_dotenv()\n",
    "\n",
    "client_id = os.getenv(\"client_id\")\n",
    "client_secret_key = os.getenv(\"client_secret_key\")\n",
    "\n",
    "#print(client_id, client_secret_key) - confirming the variables are working"
   ]
  },
  {
   "cell_type": "code",
   "execution_count": null,
   "id": "c40a04d1-4e64-4ef4-bd8e-5988c750e686",
   "metadata": {},
   "outputs": [],
   "source": []
  }
 ],
 "metadata": {
  "kernelspec": {
   "display_name": "Python 3 (ipykernel)",
   "language": "python",
   "name": "python3"
  },
  "language_info": {
   "codemirror_mode": {
    "name": "ipython",
    "version": 3
   },
   "file_extension": ".py",
   "mimetype": "text/x-python",
   "name": "python",
   "nbconvert_exporter": "python",
   "pygments_lexer": "ipython3",
   "version": "3.11.5"
  }
 },
 "nbformat": 4,
 "nbformat_minor": 5
}
