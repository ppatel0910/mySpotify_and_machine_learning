{
 "cells": [
  {
   "cell_type": "markdown",
   "id": "0d56041f-ac4c-4f6f-861d-607ff3f9e12c",
   "metadata": {},
   "source": [
    "# My Spotify Wrapped Predictions "
   ]
  },
  {
   "cell_type": "code",
   "execution_count": 3,
   "id": "280e8fed-fdd2-41d4-bee0-72fc2ef7ca4c",
   "metadata": {},
   "outputs": [],
   "source": [
    "import os\n",
    "from dotenv import load_dotenv\n",
    "import base64\n",
    "from requests import post\n",
    "import json\n",
    "\n",
    "\n",
    "load_dotenv()\n",
    "\n",
    "client_id = os.getenv(\"client_id\")\n",
    "client_secret_key = os.getenv(\"client_secret_key\")\n",
    "\n",
    "#print(client_id, client_secret_key) - confirming the variables are working"
   ]
  },
  {
   "cell_type": "code",
   "execution_count": 6,
   "id": "c40a04d1-4e64-4ef4-bd8e-5988c750e686",
   "metadata": {},
   "outputs": [
    {
     "name": "stdout",
     "output_type": "stream",
     "text": [
      "BQD9AgU2YSH0droTUIpyW45if9LCsqm-X2Cx48WhKwbQXGOLTwhzK9-4j_dcCWnfba2VMApnERxdFpW7Qst8QpN5JZrksMFdRjn4g738KOCK00ljiJs\n"
     ]
    }
   ],
   "source": [
    "# Retrieving access to authorization token\n",
    "def get_token():\n",
    "    authorization_string = client_id + \":\" + client_secret_key\n",
    "    authorization_bytes = authorization_string.encode(\"utf-8\")\n",
    "    authorization_base64 = str(base64.b64encode(authorization_bytes), \"utf-8\")\n",
    "    \n",
    "    url = \"https://accounts.spotify.com/api/token\"\n",
    "    headers = {\n",
    "        \"Authorization\": \"Basic \" + authorization_base64,\n",
    "        \"Content-Type\": \"application/x-www-form-urlencoded\"\n",
    "    }\n",
    "    data = {\"grant_type\": \"client_credentials\"}\n",
    "    result = post(url, headers = headers, data = data)\n",
    "    json_result = json.loads(result.content)\n",
    "    token = json_result[\"access_token\"]\n",
    "    return token\n",
    "\n",
    "token = get_token()\n",
    "print(token)\n",
    "\n",
    "def get_authorization_header(token):\n",
    "    return{\"Authorization\": \"Bearer \" + token}"
   ]
  },
  {
   "cell_type": "code",
   "execution_count": null,
   "id": "32658e3b-7840-4787-a637-5ff384c4bca6",
   "metadata": {},
   "outputs": [],
   "source": []
  }
 ],
 "metadata": {
  "kernelspec": {
   "display_name": "Python 3 (ipykernel)",
   "language": "python",
   "name": "python3"
  },
  "language_info": {
   "codemirror_mode": {
    "name": "ipython",
    "version": 3
   },
   "file_extension": ".py",
   "mimetype": "text/x-python",
   "name": "python",
   "nbconvert_exporter": "python",
   "pygments_lexer": "ipython3",
   "version": "3.11.5"
  }
 },
 "nbformat": 4,
 "nbformat_minor": 5
}
