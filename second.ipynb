{
 "cells": [
  {
   "cell_type": "markdown",
   "id": "66b8369d-222b-48b8-a002-1f1130b7269d",
   "metadata": {},
   "source": [
    "# Analyzing my Spotify Playlists 🎶"
   ]
  },
  {
   "cell_type": "markdown",
   "id": "6d33ab1c-c5d7-43fa-9558-f86213197c0a",
   "metadata": {},
   "source": [
    "## General Process\n",
    "#### I connected to the Spotify web API using the instructions provided from the link above, and was granted a client ID, and a client secret key. With these credentials, I requested an access token and was successfully able to make calls to the Spotify web API. I then made calls to the Spotify API using the imported Python library, Spotipy, to retrieve data such as music features. I then compiled the extracted data into a pandas dataframe. There was not much data cleaning to be done, as I essentially collected the data myself. I created a graph showing which genres of music I like the most using the dataframe."
   ]
  },
  {
   "cell_type": "markdown",
   "id": "1dcc22cc-14cf-4590-9d05-9aa6b8f1f254",
   "metadata": {},
   "source": [
    "### Connect to the Spotify API"
   ]
  },
  {
   "cell_type": "code",
   "execution_count": 2,
   "id": "e360ad1a-b7e0-4ec7-a66b-d9a00bbea474",
   "metadata": {},
   "outputs": [],
   "source": [
    "# Import all libraries used throughout the notebook\n",
    "#import os\n",
    "# TRY TO CREATE ENV FOR API KEYS from dotenv import load_dotenv\n",
    "import spotipy\n",
    "from spotipy.oauth2 import SpotifyOAuth\n",
    "from requests import post\n",
    "import base64\n",
    "import json\n",
    "import pandas as pd"
   ]
  },
  {
   "cell_type": "code",
   "execution_count": 3,
   "id": "aa4eabd7-b238-451c-a994-25a9f0de2fdb",
   "metadata": {},
   "outputs": [],
   "source": [
    "# Construct variables to hold access credentials needed in order to connect \n",
    "# with the SpotifY API\n",
    "\n",
    "my_id = \"57619a02d735467d97e9f5fcc6b264cc\"\n",
    "my_secret_key = \"f4e9db72af4e46868b418ba4e68beb7e\"\n",
    "redirect_uri = \"http://localhost:3000\"\n",
    "\n",
    "# credentials_manager = SpotifyClientCredentials(client_id = my_id, client_secret = my_secret_key)\n",
    "# sp = spotipy.Spotify(auth_manager = credentials_manager)\n",
    "\n",
    "# Authenticate with Spotify\n",
    "sp = spotipy.Spotify(auth_manager = SpotifyOAuth(client_id = my_id,\n",
    "                                               client_secret = my_secret_key,\n",
    "                                               redirect_uri = redirect_uri,\n",
    "                                               scope = \"playlist-read-private\"))"
   ]
  },
  {
   "cell_type": "markdown",
   "id": "4bd4c8a9-c5f7-4bda-9644-c05ea112b97f",
   "metadata": {},
   "source": [
    "#### Retrieving an Access Token"
   ]
  },
  {
   "cell_type": "code",
   "execution_count": 4,
   "id": "81d4cc76-7d86-48d6-b28f-ef3f1daeb18e",
   "metadata": {},
   "outputs": [],
   "source": [
    "# Retrieving a token\n",
    "def get_token():\n",
    "    authorization_string = my_id + \":\" + my_secret_key\n",
    "    authorization_bytes = authorization_string.encode(\"utf-8\")\n",
    "    authorization_base64 = str(base64.b64encode(authorization_bytes), \"utf-8\")\n",
    "    \n",
    "    url = \"https://accounts.spotify.com/api/token\"\n",
    "    headers = {\n",
    "        \"Authorization\": \"Basic \" + authorization_base64,\n",
    "        \"Content-Type\": \"application/x-www-form-urlencoded\"\n",
    "    }\n",
    "    data = {\"grant_type\": \"client_credentials\"}\n",
    "    result = post(url, headers = headers, data = data)\n",
    "    json_result = json.loads(result.content)\n",
    "    token = json_result[\"access_token\"]\n",
    "    return token\n",
    "\n",
    "token = get_token()\n",
    "#print(token)\n",
    "\n",
    "def get_authorization_header(token):\n",
    "    return{\"Authorization\": \"Bearer \" + token}"
   ]
  },
  {
   "cell_type": "markdown",
   "id": "86168cb1-d158-4596-aff7-71010b284b10",
   "metadata": {},
   "source": [
    "#### We have successfully connected to my Spotify account. After this code was run, I was brought to a Spotify page confirming to connect to my account. We can begin to analyze my Spotify account! 🎉"
   ]
  },
  {
   "cell_type": "markdown",
   "id": "53e402aa-4ea0-481c-85f0-e64984f9e84f",
   "metadata": {},
   "source": [
    "### Extracting my Music"
   ]
  },
  {
   "cell_type": "code",
   "execution_count": 1,
   "id": "252a75ad-3e3a-4825-9331-98d03f6e0cfd",
   "metadata": {},
   "outputs": [
    {
     "ename": "NameError",
     "evalue": "name 'sp' is not defined",
     "output_type": "error",
     "traceback": [
      "\u001b[1;31m---------------------------------------------------------------------------\u001b[0m",
      "\u001b[1;31mNameError\u001b[0m                                 Traceback (most recent call last)",
      "Cell \u001b[1;32mIn[1], line 4\u001b[0m\n\u001b[0;32m      1\u001b[0m \u001b[38;5;66;03m# Retrieve the album ID from all my current playlists, with the album IDs I can\u001b[39;00m\n\u001b[0;32m      2\u001b[0m \u001b[38;5;66;03m# analyze the playlists of my choosing \u001b[39;00m\n\u001b[1;32m----> 4\u001b[0m playlists \u001b[38;5;241m=\u001b[39m \u001b[43msp\u001b[49m\u001b[38;5;241m.\u001b[39mcurrent_user_playlists(limit\u001b[38;5;241m=\u001b[39m\u001b[38;5;241m50\u001b[39m, offset\u001b[38;5;241m=\u001b[39m\u001b[38;5;241m0\u001b[39m)\n\u001b[0;32m      5\u001b[0m \u001b[38;5;28;01mfor\u001b[39;00m playlist \u001b[38;5;129;01min\u001b[39;00m playlists[\u001b[38;5;124m'\u001b[39m\u001b[38;5;124mitems\u001b[39m\u001b[38;5;124m'\u001b[39m]:\n\u001b[0;32m      6\u001b[0m     \u001b[38;5;28mprint\u001b[39m(\u001b[38;5;124m\"\u001b[39m\u001b[38;5;124mPlaylist:\u001b[39m\u001b[38;5;124m\"\u001b[39m, playlist[\u001b[38;5;124m'\u001b[39m\u001b[38;5;124mname\u001b[39m\u001b[38;5;124m'\u001b[39m])\n",
      "\u001b[1;31mNameError\u001b[0m: name 'sp' is not defined"
     ]
    }
   ],
   "source": [
    "# Retrieve the album ID from all my current playlists, with the album IDs I can\n",
    "# analyze the playlists of my choosing \n",
    "\n",
    "playlists = sp.current_user_playlists(limit=50, offset=0)\n",
    "for playlist in playlists['items']:\n",
    "    print(\"Playlist:\", playlist['name'])\n",
    "    print(\"Playlist ID:\", playlist['id'])\n",
    "    print()"
   ]
  },
  {
   "cell_type": "code",
   "execution_count": 18,
   "id": "81c4abb3-33af-4bc5-954f-8dd9bb1c096d",
   "metadata": {},
   "outputs": [
    {
     "data": {
      "text/html": [
       "<div>\n",
       "<style scoped>\n",
       "    .dataframe tbody tr th:only-of-type {\n",
       "        vertical-align: middle;\n",
       "    }\n",
       "\n",
       "    .dataframe tbody tr th {\n",
       "        vertical-align: top;\n",
       "    }\n",
       "\n",
       "    .dataframe thead th {\n",
       "        text-align: right;\n",
       "    }\n",
       "</style>\n",
       "<table border=\"1\" class=\"dataframe\">\n",
       "  <thead>\n",
       "    <tr style=\"text-align: right;\">\n",
       "      <th></th>\n",
       "      <th>album_id</th>\n",
       "      <th>genre</th>\n",
       "      <th>year</th>\n",
       "    </tr>\n",
       "  </thead>\n",
       "  <tbody>\n",
       "    <tr>\n",
       "      <th>0</th>\n",
       "      <td>37i9dQZF1DX5n5gZBZb0AT</td>\n",
       "      <td>phonk1</td>\n",
       "      <td>2023</td>\n",
       "    </tr>\n",
       "    <tr>\n",
       "      <th>1</th>\n",
       "      <td>1hoN2uRdSpWPT8dBAgKhdV</td>\n",
       "      <td>slow_lovey_dovey</td>\n",
       "      <td>2021</td>\n",
       "    </tr>\n",
       "  </tbody>\n",
       "</table>\n",
       "</div>"
      ],
      "text/plain": [
       "                 album_id             genre  year\n",
       "0  37i9dQZF1DX5n5gZBZb0AT            phonk1  2023\n",
       "1  1hoN2uRdSpWPT8dBAgKhdV  slow_lovey_dovey  2021"
      ]
     },
     "execution_count": 18,
     "metadata": {},
     "output_type": "execute_result"
    }
   ],
   "source": [
    "# Using tke playlist ID's extracted above, I created a list of dictionaries to hold only\n",
    "# the playlists I wanted to analyze\n",
    "\n",
    "playlist_ids = [{\"album_id\" : \"37i9dQZF1DX5n5gZBZb0AT\", \"genre\" : \"phonk1\", \"year\" : \"2023\"},\n",
    "               {\"album_id\" : \"1hoN2uRdSpWPT8dBAgKhdV\", \"genre\" : \"slow_lovey_dovey\", \"year\" : \"2021\"}]\n",
    "\n",
    "df = pd.DataFrame(playlist_ids)\n",
    "df"
   ]
  },
  {
   "cell_type": "code",
   "execution_count": null,
   "id": "8d45f9de-a2de-4885-958a-2bf18d025778",
   "metadata": {},
   "outputs": [],
   "source": [
    "get a list of track ids fronm my playlist, using the ids use the audio_features function to extra music features information and graph the features"
   ]
  },
  {
   "cell_type": "code",
   "execution_count": null,
   "id": "c1fed414-b202-4ad4-9bfb-8f3ce2cf3849",
   "metadata": {},
   "outputs": [],
   "source": []
  },
  {
   "cell_type": "code",
   "execution_count": null,
   "id": "409bb8b1-a600-4d38-b8f0-7c852ab6d25a",
   "metadata": {},
   "outputs": [],
   "source": []
  },
  {
   "cell_type": "code",
   "execution_count": null,
   "id": "41730c21-956e-455e-af53-522770e628d5",
   "metadata": {},
   "outputs": [],
   "source": [
    "https://www.youtube.com/watch?v=oNyaiWgqKDI"
   ]
  },
  {
   "cell_type": "code",
   "execution_count": null,
   "id": "2914a253-a4d9-4497-bef6-a57c6fa2253c",
   "metadata": {},
   "outputs": [],
   "source": [
    "https://developer.spotify.com/documentation/web-api/tutorials/code-flow"
   ]
  },
  {
   "cell_type": "code",
   "execution_count": null,
   "id": "67de12bd-8180-4334-b4c2-52b346738141",
   "metadata": {},
   "outputs": [],
   "source": [
    "https://developer.spotify.com/documentation/web-api/tutorials/getting-started"
   ]
  },
  {
   "cell_type": "code",
   "execution_count": null,
   "id": "1797f3df-0d0b-4f42-abf3-f5a65de58ee6",
   "metadata": {},
   "outputs": [],
   "source": [
    "https://levelup.gitconnected.com/music-analysis-with-spotify-api-59c080734c6e"
   ]
  },
  {
   "cell_type": "code",
   "execution_count": null,
   "id": "bae8ee34-7a3e-454e-97fd-5d3508645853",
   "metadata": {},
   "outputs": [],
   "source": [
    "https://developer.spotify.com/documentation/web-api/howtos/web-app-profile"
   ]
  },
  {
   "cell_type": "code",
   "execution_count": null,
   "id": "31d8fc58-4743-49bd-a940-6e5416ba808e",
   "metadata": {},
   "outputs": [],
   "source": [
    "https://developer.spotify.com/documentation/web-api/reference/get-recommendations"
   ]
  },
  {
   "cell_type": "code",
   "execution_count": null,
   "id": "040dc38a-ccda-4f85-829f-41f3b93c97af",
   "metadata": {},
   "outputs": [],
   "source": [
    "https://developer.spotify.com/documentation/web-api/concepts/scopes#playlist-read-private"
   ]
  },
  {
   "cell_type": "code",
   "execution_count": null,
   "id": "5de499bd-a9dd-45ee-a761-9ad2c0ae15d4",
   "metadata": {},
   "outputs": [],
   "source": [
    "https://developer.spotify.com/documentation/web-api/tutorials/code-flow"
   ]
  }
 ],
 "metadata": {
  "kernelspec": {
   "display_name": "Python 3 (ipykernel)",
   "language": "python",
   "name": "python3"
  },
  "language_info": {
   "codemirror_mode": {
    "name": "ipython",
    "version": 3
   },
   "file_extension": ".py",
   "mimetype": "text/x-python",
   "name": "python",
   "nbconvert_exporter": "python",
   "pygments_lexer": "ipython3",
   "version": "3.11.5"
  }
 },
 "nbformat": 4,
 "nbformat_minor": 5
}
