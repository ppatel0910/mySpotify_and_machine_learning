{
 "cells": [
  {
   "cell_type": "markdown",
   "id": "66b8369d-222b-48b8-a002-1f1130b7269d",
   "metadata": {},
   "source": [
    "# Analyzing my Spotify Playlists 🎶"
   ]
  },
  {
   "cell_type": "markdown",
   "id": "1dcc22cc-14cf-4590-9d05-9aa6b8f1f254",
   "metadata": {},
   "source": [
    "### Connect to the API"
   ]
  },
  {
   "cell_type": "code",
   "execution_count": 31,
   "id": "e360ad1a-b7e0-4ec7-a66b-d9a00bbea474",
   "metadata": {},
   "outputs": [],
   "source": [
    "# Import all libraries used throughout the notebook\n",
    "#import os\n",
    "# TRY TO CREATE ENV FOR API KEYS from dotenv import load_dotenv\n",
    "import spotipy\n",
    "from spotipy.oauth2 import SpotifyOAuth\n",
    "from requests import post\n",
    "import base64\n",
    "import json\n",
    "import pandas as pd"
   ]
  },
  {
   "cell_type": "code",
   "execution_count": 32,
   "id": "aa4eabd7-b238-451c-a994-25a9f0de2fdb",
   "metadata": {},
   "outputs": [],
   "source": [
    "# Construct variables to hold access credentials needed in order to connect \n",
    "# with the SpotifY API\n",
    "\n",
    "my_id = \"57619a02d735467d97e9f5fcc6b264cc\"\n",
    "my_secret_key = \"f4e9db72af4e46868b418ba4e68beb7e\"\n",
    "redirect_uri = \"http://localhost:3000\"\n",
    "\n",
    "# credentials_manager = SpotifyClientCredentials(client_id = my_id, client_secret = my_secret_key)\n",
    "# sp = spotipy.Spotify(auth_manager = credentials_manager)\n",
    "\n",
    "# Authenticate with Spotify\n",
    "sp = spotipy.Spotify(auth_manager = SpotifyOAuth(client_id = my_id,\n",
    "                                               client_secret = my_secret_key,\n",
    "                                               redirect_uri = redirect_uri,\n",
    "                                               scope = \"playlist-read-private\"))"
   ]
  },
  {
   "cell_type": "markdown",
   "id": "4bd4c8a9-c5f7-4bda-9644-c05ea112b97f",
   "metadata": {},
   "source": [
    "#### Retrieving an Access Token"
   ]
  },
  {
   "cell_type": "code",
   "execution_count": 35,
   "id": "81d4cc76-7d86-48d6-b28f-ef3f1daeb18e",
   "metadata": {},
   "outputs": [],
   "source": [
    "# Retrieving a token\n",
    "def get_token():\n",
    "    authorization_string = my_id + \":\" + my_secret_key\n",
    "    authorization_bytes = authorization_string.encode(\"utf-8\")\n",
    "    authorization_base64 = str(base64.b64encode(authorization_bytes), \"utf-8\")\n",
    "    \n",
    "    url = \"https://accounts.spotify.com/api/token\"\n",
    "    headers = {\n",
    "        \"Authorization\": \"Basic \" + authorization_base64,\n",
    "        \"Content-Type\": \"application/x-www-form-urlencoded\"\n",
    "    }\n",
    "    data = {\"grant_type\": \"client_credentials\"}\n",
    "    result = post(url, headers = headers, data = data)\n",
    "    json_result = json.loads(result.content)\n",
    "    token = json_result[\"access_token\"]\n",
    "    return token\n",
    "\n",
    "token = get_token()\n",
    "#print(token)\n",
    "\n",
    "def get_authorization_header(token):\n",
    "    return{\"Authorization\": \"Bearer \" + token}"
   ]
  },
  {
   "cell_type": "markdown",
   "id": "86168cb1-d158-4596-aff7-71010b284b10",
   "metadata": {},
   "source": [
    "### We have successfully connected to my Spotify account. After this code was run, I was brought to a Spotify page confirming to connect to my account. We can now begin to analyze my Spotify account! 🎉"
   ]
  },
  {
   "cell_type": "markdown",
   "id": "53e402aa-4ea0-481c-85f0-e64984f9e84f",
   "metadata": {},
   "source": [
    "### Extracting my Music"
   ]
  },
  {
   "cell_type": "code",
   "execution_count": 30,
   "id": "252a75ad-3e3a-4825-9331-98d03f6e0cfd",
   "metadata": {},
   "outputs": [
    {
     "name": "stdout",
     "output_type": "stream",
     "text": [
      "Playlist: 👺\n",
      "Playlist ID: 1I1GadwOIwBSA0QKjWXvcK\n",
      "\n",
      "Playlist: gymcore\n",
      "Playlist ID: 37i9dQZF1DX5n5gZBZb0AT\n",
      "\n",
      "Playlist: Pop Rising\n",
      "Playlist ID: 37i9dQZF1DWUa8ZRTfalHk\n",
      "\n",
      "Playlist: Your Top Songs 2023\n",
      "Playlist ID: 37i9dQZF1Fa1IIVtEpGUcU\n",
      "\n",
      "Playlist: phonk\n",
      "Playlist ID: 37i9dQZF1DWWY64wDtewQt\n",
      "\n",
      "Playlist: ☠️\n",
      "Playlist ID: 36sWCIuz8qsiR24qNBMGKt\n",
      "\n",
      "Playlist: yea\n",
      "Playlist ID: 3Z4JXpMvdFtSfwlt5UOVeM\n",
      "\n",
      "Playlist: ♨️\n",
      "Playlist ID: 4SFa1odhkTaQen705xiObH\n",
      "\n",
      "Playlist: 💰💰💰💰💰💰💰💰💰💰💰💰💰\n",
      "Playlist ID: 4xrHb5Wju7CKwgR06dxKQn\n",
      "\n",
      "Playlist: sped up tiktok songs 💗\n",
      "Playlist ID: 3s8WWki88fA7HTheXIP3I8\n",
      "\n",
      "Playlist: POV - You Get Takeout Instead\n",
      "Playlist ID: 63iShZjWPaOFvamCsZTcOF\n",
      "\n",
      "Playlist: Underrated Songs That Are Amazing\n",
      "Playlist ID: 6ptJubKYZXFvgxljV2jnqj\n",
      "\n",
      "Playlist: ✨\n",
      "Playlist ID: 52SUls5Z9UfIwwUuQdzZfx\n",
      "\n",
      "Playlist: New Music Friday\n",
      "Playlist ID: 37i9dQZF1DX4JAvHpjipBk\n",
      "\n",
      "Playlist: Your Top Songs 2022\n",
      "Playlist ID: 37i9dQZF1F0sijgNaJdgit\n",
      "\n",
      "Playlist: \n",
      "Playlist ID: 07rgwN3cehdytoITJds2rf\n",
      "\n",
      "Playlist: Your Top Songs 2021\n",
      "Playlist ID: 37i9dQZF1EUMDoJuT8yJsl\n",
      "\n",
      "Playlist: blackbear complete\n",
      "Playlist ID: 7wYs1mp8npgl2TFa8LpdAn\n",
      "\n",
      "Playlist: Your Top Songs 2020\n",
      "Playlist ID: 37i9dQZF1EM8XokzgDW8MX\n",
      "\n",
      "Playlist: random\n",
      "Playlist ID: 0pEkOWP7xIHk0RkucmGQ5I\n",
      "\n",
      "Playlist: NEW SPANISH TRAP\n",
      "Playlist ID: 0MCNQTgcmJOdA5RaYQZbjT\n",
      "\n",
      "Playlist: Spanish Trap\n",
      "Playlist ID: 4GkuLJQ4zte0yYF0msUNtw\n",
      "\n",
      "Playlist: Eklavya + Priya\n",
      "Playlist ID: 37i9dQZF1EJtpC3JTdWYfV\n",
      "\n",
      "Playlist: hot girl\n",
      "Playlist ID: 5xYfCE46cAGAFdZimcs9yC\n",
      "\n",
      "Playlist: hatersss\n",
      "Playlist ID: 5Zc078JWOkiRAIcqh44rqv\n",
      "\n",
      "Playlist: seductive spanglish ❤️\n",
      "Playlist ID: 6B42ONU8xRAWP9CYdZGCi3\n",
      "\n",
      "Playlist: 🏏\n",
      "Playlist ID: 7dwO2ZUlYDNWhgow20wMnO\n",
      "\n",
      "Playlist: Mixto\n",
      "Playlist ID: 37i9dQZF1DX7qRKBHjmYIE\n",
      "\n",
      "Playlist: Hip bolly\n",
      "Playlist ID: 1gaWVbmoLFU0AnLBKNcxcc\n",
      "\n",
      "Playlist: sadboi hours\n",
      "Playlist ID: 1GtkxWoPEOnNOzcf1GFae5\n",
      "\n",
      "Playlist: One Last Thing....\n",
      "Playlist ID: 2WQLTqAIE7UQ3H4Vxx44yE\n",
      "\n",
      "Playlist: 👽\n",
      "Playlist ID: 5R5B9HPAtIo2k1qQZ97T1Q\n",
      "\n",
      "Playlist: Missed Hits\n",
      "Playlist ID: 37i9dQZF1EOiAm5PCwUGu5\n",
      "\n",
      "Playlist: latino mix\n",
      "Playlist ID: 3Gq9Tu5F3weC7dVWJwASXU\n",
      "\n",
      "Playlist: Release Radar\n",
      "Playlist ID: 37i9dQZEVXbbRTavqp6j2m\n",
      "\n",
      "Playlist: \n",
      "Playlist ID: 54zKHXQdjJYQc5srgpjOjm\n",
      "\n",
      "Playlist: 💪🏽\n",
      "Playlist ID: 2nhWIzWoNWOkJx02i9vqIa\n",
      "\n",
      "Playlist: 😌\n",
      "Playlist ID: 279x6EFu5xYeJW3pvaDp3W\n",
      "\n",
      "Playlist: This Is Megan Thee Stallion\n",
      "Playlist ID: 37i9dQZF1DZ06evO0BEOzm\n",
      "\n",
      "Playlist: This Is Bad Bunny\n",
      "Playlist ID: 37i9dQZF1DX2apWzyECwyZ\n",
      "\n",
      "Playlist: 🙇🏼‍♀️\n",
      "Playlist ID: 5XKNLddyL1zuK2oDMzJ6cM\n",
      "\n",
      "Playlist: 🦚\n",
      "Playlist ID: 44tglVDSpkZ1jUHRQP5mh8\n",
      "\n",
      "Playlist: Happy Hits!\n",
      "Playlist ID: 37i9dQZF1DXdPec7aLTmlC\n",
      "\n",
      "Playlist: Feelin' Myself\n",
      "Playlist ID: 37i9dQZF1DX6GwdWRQMQpq\n",
      "\n",
      "Playlist: Boss Ass bitch $$$$\n",
      "Playlist ID: 0nQ0jU9msWXjHu121CFL4P\n",
      "\n",
      "Playlist:  Bad Girls Club \n",
      "Playlist ID: 32WsxJuRHFyvHmRgCQvo2H\n",
      "\n",
      "Playlist: 💃🏽\n",
      "Playlist ID: 3HKx2Xx0fn36b0DJbTQ8il\n",
      "\n",
      "Playlist: Locked In\n",
      "Playlist ID: 37i9dQZF1DWTl4y3vgJOXW\n",
      "\n",
      "Playlist: Gold Edition\n",
      "Playlist ID: 37i9dQZF1DWXnexX7CktaI\n",
      "\n",
      "Playlist: 🥰\n",
      "Playlist ID: 1hoN2uRdSpWPT8dBAgKhdV\n",
      "\n"
     ]
    }
   ],
   "source": [
    "# Retrieve the album ID from all my current playlists, with the album ID I can\n",
    "# now analyze the playlist of my choice. \n",
    "\n",
    "playlists = sp.current_user_playlists(limit=50, offset=0)\n",
    "for playlist in playlists['items']:\n",
    "    print(\"Playlist:\", playlist['name'])\n",
    "    print(\"Playlist ID:\", playlist['id'])\n",
    "    print()"
   ]
  },
  {
   "cell_type": "code",
   "execution_count": null,
   "id": "8d45f9de-a2de-4885-958a-2bf18d025778",
   "metadata": {},
   "outputs": [],
   "source": [
    "get a list of track ids fronm my playlist, using the ids use the audio_features function to extra music features information and graph the features"
   ]
  },
  {
   "cell_type": "code",
   "execution_count": null,
   "id": "81c4abb3-33af-4bc5-954f-8dd9bb1c096d",
   "metadata": {},
   "outputs": [],
   "source": []
  },
  {
   "cell_type": "code",
   "execution_count": null,
   "id": "c1fed414-b202-4ad4-9bfb-8f3ce2cf3849",
   "metadata": {},
   "outputs": [],
   "source": []
  },
  {
   "cell_type": "code",
   "execution_count": null,
   "id": "409bb8b1-a600-4d38-b8f0-7c852ab6d25a",
   "metadata": {},
   "outputs": [],
   "source": []
  },
  {
   "cell_type": "code",
   "execution_count": null,
   "id": "41730c21-956e-455e-af53-522770e628d5",
   "metadata": {},
   "outputs": [],
   "source": [
    "https://www.youtube.com/watch?v=oNyaiWgqKDI"
   ]
  },
  {
   "cell_type": "code",
   "execution_count": null,
   "id": "2914a253-a4d9-4497-bef6-a57c6fa2253c",
   "metadata": {},
   "outputs": [],
   "source": [
    "https://developer.spotify.com/documentation/web-api/tutorials/code-flow"
   ]
  },
  {
   "cell_type": "code",
   "execution_count": null,
   "id": "67de12bd-8180-4334-b4c2-52b346738141",
   "metadata": {},
   "outputs": [],
   "source": [
    "https://developer.spotify.com/documentation/web-api/tutorials/getting-started"
   ]
  },
  {
   "cell_type": "code",
   "execution_count": null,
   "id": "1797f3df-0d0b-4f42-abf3-f5a65de58ee6",
   "metadata": {},
   "outputs": [],
   "source": [
    "https://levelup.gitconnected.com/music-analysis-with-spotify-api-59c080734c6e"
   ]
  },
  {
   "cell_type": "code",
   "execution_count": null,
   "id": "bae8ee34-7a3e-454e-97fd-5d3508645853",
   "metadata": {},
   "outputs": [],
   "source": [
    "https://developer.spotify.com/documentation/web-api/howtos/web-app-profile"
   ]
  },
  {
   "cell_type": "code",
   "execution_count": null,
   "id": "31d8fc58-4743-49bd-a940-6e5416ba808e",
   "metadata": {},
   "outputs": [],
   "source": [
    "https://developer.spotify.com/documentation/web-api/reference/get-recommendations"
   ]
  },
  {
   "cell_type": "code",
   "execution_count": null,
   "id": "040dc38a-ccda-4f85-829f-41f3b93c97af",
   "metadata": {},
   "outputs": [],
   "source": [
    "https://developer.spotify.com/documentation/web-api/concepts/scopes#playlist-read-private"
   ]
  },
  {
   "cell_type": "code",
   "execution_count": null,
   "id": "5de499bd-a9dd-45ee-a761-9ad2c0ae15d4",
   "metadata": {},
   "outputs": [],
   "source": [
    "https://developer.spotify.com/documentation/web-api/tutorials/code-flow"
   ]
  }
 ],
 "metadata": {
  "kernelspec": {
   "display_name": "Python 3 (ipykernel)",
   "language": "python",
   "name": "python3"
  },
  "language_info": {
   "codemirror_mode": {
    "name": "ipython",
    "version": 3
   },
   "file_extension": ".py",
   "mimetype": "text/x-python",
   "name": "python",
   "nbconvert_exporter": "python",
   "pygments_lexer": "ipython3",
   "version": "3.11.5"
  }
 },
 "nbformat": 4,
 "nbformat_minor": 5
}
