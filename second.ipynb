{
 "cells": [
  {
   "cell_type": "markdown",
   "id": "66b8369d-222b-48b8-a002-1f1130b7269d",
   "metadata": {},
   "source": [
    "# Generating Song Recommendations Using Spotify"
   ]
  },
  {
   "cell_type": "markdown",
   "id": "1dcc22cc-14cf-4590-9d05-9aa6b8f1f254",
   "metadata": {},
   "source": [
    "### Connecting to the API"
   ]
  },
  {
   "cell_type": "code",
   "execution_count": 19,
   "id": "e360ad1a-b7e0-4ec7-a66b-d9a00bbea474",
   "metadata": {},
   "outputs": [],
   "source": [
    "# Import all libraries used throughout the notebook\n",
    "#import os\n",
    "# TRY TO CREATE ENV FOR API KEYS from dotenv import load_dotenv\n",
    "import spotipy\n",
    "from spotipy.oauth2 import SpotifyClientCredentials\n",
    "import pandas as pd"
   ]
  },
  {
   "cell_type": "code",
   "execution_count": 26,
   "id": "aa4eabd7-b238-451c-a994-25a9f0de2fdb",
   "metadata": {},
   "outputs": [],
   "source": [
    "# Construct variables to hold access credentials needed in order to connect \n",
    "# with the SpotifY API\n",
    "\n",
    "my_id = \"57619a02d735467d97e9f5fcc6b264cc\"\n",
    "my_secret_key = \"f4e9db72af4e46868b418ba4e68beb7e\"\n",
    "\n",
    "credentials_manager = SpotifyClientCredentials(client_id = my_id, client_secret = my_secret_key)\n",
    "sp = spotipy.Spotify(auth_manager = credentials_manager)"
   ]
  },
  {
   "cell_type": "markdown",
   "id": "53e402aa-4ea0-481c-85f0-e64984f9e84f",
   "metadata": {},
   "source": [
    "### Extracting my Music"
   ]
  },
  {
   "cell_type": "code",
   "execution_count": null,
   "id": "8d45f9de-a2de-4885-958a-2bf18d025778",
   "metadata": {},
   "outputs": [],
   "source": [
    "get a list of track ids fronm my playlist, using the ids use the audio_features function to extra music features information and graph the features"
   ]
  },
  {
   "cell_type": "code",
   "execution_count": null,
   "id": "252a75ad-3e3a-4825-9331-98d03f6e0cfd",
   "metadata": {},
   "outputs": [],
   "source": [
    "# Get song ids for the songs in my playlist.\n",
    "\n"
   ]
  },
  {
   "cell_type": "code",
   "execution_count": null,
   "id": "41730c21-956e-455e-af53-522770e628d5",
   "metadata": {},
   "outputs": [],
   "source": [
    "https://www.youtube.com/watch?v=oNyaiWgqKDI"
   ]
  },
  {
   "cell_type": "code",
   "execution_count": null,
   "id": "2914a253-a4d9-4497-bef6-a57c6fa2253c",
   "metadata": {},
   "outputs": [],
   "source": [
    "https://developer.spotify.com/documentation/web-api/tutorials/code-flow"
   ]
  },
  {
   "cell_type": "code",
   "execution_count": null,
   "id": "67de12bd-8180-4334-b4c2-52b346738141",
   "metadata": {},
   "outputs": [],
   "source": [
    "https://developer.spotify.com/documentation/web-api/tutorials/getting-started"
   ]
  },
  {
   "cell_type": "code",
   "execution_count": null,
   "id": "1797f3df-0d0b-4f42-abf3-f5a65de58ee6",
   "metadata": {},
   "outputs": [],
   "source": [
    "https://levelup.gitconnected.com/music-analysis-with-spotify-api-59c080734c6e"
   ]
  },
  {
   "cell_type": "code",
   "execution_count": null,
   "id": "bae8ee34-7a3e-454e-97fd-5d3508645853",
   "metadata": {},
   "outputs": [],
   "source": [
    "https://developer.spotify.com/documentation/web-api/howtos/web-app-profile"
   ]
  },
  {
   "cell_type": "code",
   "execution_count": null,
   "id": "31d8fc58-4743-49bd-a940-6e5416ba808e",
   "metadata": {},
   "outputs": [],
   "source": [
    "https://developer.spotify.com/documentation/web-api/reference/get-recommendations"
   ]
  },
  {
   "cell_type": "code",
   "execution_count": null,
   "id": "040dc38a-ccda-4f85-829f-41f3b93c97af",
   "metadata": {},
   "outputs": [],
   "source": [
    "https://developer.spotify.com/documentation/web-api/concepts/scopes#playlist-read-private"
   ]
  },
  {
   "cell_type": "code",
   "execution_count": null,
   "id": "5de499bd-a9dd-45ee-a761-9ad2c0ae15d4",
   "metadata": {},
   "outputs": [],
   "source": [
    "https://developer.spotify.com/documentation/web-api/tutorials/code-flow"
   ]
  }
 ],
 "metadata": {
  "kernelspec": {
   "display_name": "Python 3 (ipykernel)",
   "language": "python",
   "name": "python3"
  },
  "language_info": {
   "codemirror_mode": {
    "name": "ipython",
    "version": 3
   },
   "file_extension": ".py",
   "mimetype": "text/x-python",
   "name": "python",
   "nbconvert_exporter": "python",
   "pygments_lexer": "ipython3",
   "version": "3.11.5"
  }
 },
 "nbformat": 4,
 "nbformat_minor": 5
}
