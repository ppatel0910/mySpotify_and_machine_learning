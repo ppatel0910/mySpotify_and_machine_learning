{
 "cells": [
  {
   "cell_type": "markdown",
   "id": "0d56041f-ac4c-4f6f-861d-607ff3f9e12c",
   "metadata": {},
   "source": [
    "# Connecting to my Spotify Account"
   ]
  },
  {
   "cell_type": "code",
   "execution_count": 7,
   "id": "280e8fed-fdd2-41d4-bee0-72fc2ef7ca4c",
   "metadata": {},
   "outputs": [],
   "source": [
    "# Import necessary libraries for connection \n",
    "import os \n",
    "from dotenv import load_dotenv\n",
    "import spotipy \n",
    "from spotipy.oauth2 import SpotifyOAuth\n",
    "from requests import post\n",
    "import base64\n",
    "import json"
   ]
  },
  {
   "cell_type": "code",
   "execution_count": 8,
   "id": "92569dbf-c9e6-47da-b2eb-6fe8b0178a7a",
   "metadata": {},
   "outputs": [],
   "source": [
    "# Construct variables to hold access credentials needed in order to connect \n",
    "# with the SpotifY API\n",
    "\n",
    "# Create a local .env file, to create and hold 'my client_id' and 'client_secret_id' \n",
    "# variables\n",
    "load_dotenv()\n",
    "\n",
    "my_id = os.getenv(\"my_id\")\n",
    "my_secret_key = os.getenv(\"my_secret_id\")\n",
    "redirect_uri = \"http://localhost:3000\"\n",
    "\n",
    "# Authenticate with Spotify\n",
    "sp = spotipy.Spotify(auth_manager = SpotifyOAuth(client_id = my_id,\n",
    "                                               client_secret = my_secret_key,\n",
    "                                               redirect_uri = redirect_uri,\n",
    "                                               scope = \"playlist-read-private user-read-recently-played\"))"
   ]
  },
  {
   "cell_type": "markdown",
   "id": "c2108174-dfcf-469c-a1aa-1ec60d9d9660",
   "metadata": {},
   "source": [
    "#### Retrieving an Access Token"
   ]
  },
  {
   "cell_type": "code",
   "execution_count": 9,
   "id": "5871dd3a-bc03-454a-bf94-ad1845968058",
   "metadata": {},
   "outputs": [
    {
     "ename": "TypeError",
     "evalue": "unsupported operand type(s) for +: 'NoneType' and 'str'",
     "output_type": "error",
     "traceback": [
      "\u001b[1;31m---------------------------------------------------------------------------\u001b[0m",
      "\u001b[1;31mTypeError\u001b[0m                                 Traceback (most recent call last)",
      "Cell \u001b[1;32mIn[9], line 18\u001b[0m\n\u001b[0;32m     15\u001b[0m     token \u001b[38;5;241m=\u001b[39m json_result[\u001b[38;5;124m\"\u001b[39m\u001b[38;5;124maccess_token\u001b[39m\u001b[38;5;124m\"\u001b[39m]\n\u001b[0;32m     16\u001b[0m     \u001b[38;5;28;01mreturn\u001b[39;00m token\n\u001b[1;32m---> 18\u001b[0m token \u001b[38;5;241m=\u001b[39m \u001b[43mget_token\u001b[49m\u001b[43m(\u001b[49m\u001b[43m)\u001b[49m\n\u001b[0;32m     19\u001b[0m \u001b[38;5;28mprint\u001b[39m(token)\n\u001b[0;32m     21\u001b[0m \u001b[38;5;28;01mdef\u001b[39;00m \u001b[38;5;21mget_authorization_header\u001b[39m(token):\n",
      "Cell \u001b[1;32mIn[9], line 3\u001b[0m, in \u001b[0;36mget_token\u001b[1;34m()\u001b[0m\n\u001b[0;32m      2\u001b[0m \u001b[38;5;28;01mdef\u001b[39;00m \u001b[38;5;21mget_token\u001b[39m():\n\u001b[1;32m----> 3\u001b[0m     authorization_string \u001b[38;5;241m=\u001b[39m \u001b[43mclient_id\u001b[49m\u001b[43m \u001b[49m\u001b[38;5;241;43m+\u001b[39;49m\u001b[43m \u001b[49m\u001b[38;5;124;43m\"\u001b[39;49m\u001b[38;5;124;43m:\u001b[39;49m\u001b[38;5;124;43m\"\u001b[39;49m \u001b[38;5;241m+\u001b[39m client_secret_key\n\u001b[0;32m      4\u001b[0m     authorization_bytes \u001b[38;5;241m=\u001b[39m authorization_string\u001b[38;5;241m.\u001b[39mencode(\u001b[38;5;124m\"\u001b[39m\u001b[38;5;124mutf-8\u001b[39m\u001b[38;5;124m\"\u001b[39m)\n\u001b[0;32m      5\u001b[0m     authorization_base64 \u001b[38;5;241m=\u001b[39m \u001b[38;5;28mstr\u001b[39m(base64\u001b[38;5;241m.\u001b[39mb64encode(authorization_bytes), \u001b[38;5;124m\"\u001b[39m\u001b[38;5;124mutf-8\u001b[39m\u001b[38;5;124m\"\u001b[39m)\n",
      "\u001b[1;31mTypeError\u001b[0m: unsupported operand type(s) for +: 'NoneType' and 'str'"
     ]
    }
   ],
   "source": [
    "# Retrieving access to authorization token\n",
    "def get_token():\n",
    "    authorization_string = client_id + \":\" + client_secret_key\n",
    "    authorization_bytes = authorization_string.encode(\"utf-8\")\n",
    "    authorization_base64 = str(base64.b64encode(authorization_bytes), \"utf-8\")\n",
    "    \n",
    "    url = \"https://accounts.spotify.com/api/token\"\n",
    "    headers = {\n",
    "        \"Authorization\": \"Basic \" + authorization_base64,\n",
    "        \"Content-Type\": \"application/x-www-form-urlencoded\"\n",
    "    }\n",
    "    data = {\"grant_type\": \"client_credentials\"}\n",
    "    result = post(url, headers = headers, data = data)\n",
    "    json_result = json.loads(result.content)\n",
    "    token = json_result[\"access_token\"]\n",
    "    return token\n",
    "\n",
    "token = get_token()\n",
    "print(token)\n",
    "\n",
    "def get_authorization_header(token):\n",
    "    return{\"Authorization\": \"Bearer \" + token}"
   ]
  },
  {
   "cell_type": "code",
   "execution_count": null,
   "id": "32658e3b-7840-4787-a637-5ff384c4bca6",
   "metadata": {},
   "outputs": [],
   "source": []
  }
 ],
 "metadata": {
  "kernelspec": {
   "display_name": "Python 3 (ipykernel)",
   "language": "python",
   "name": "python3"
  },
  "language_info": {
   "codemirror_mode": {
    "name": "ipython",
    "version": 3
   },
   "file_extension": ".py",
   "mimetype": "text/x-python",
   "name": "python",
   "nbconvert_exporter": "python",
   "pygments_lexer": "ipython3",
   "version": "3.11.5"
  }
 },
 "nbformat": 4,
 "nbformat_minor": 5
}
